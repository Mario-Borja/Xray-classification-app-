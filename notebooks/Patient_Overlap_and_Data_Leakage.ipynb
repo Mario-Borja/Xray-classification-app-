{
 "cells": [
  {
   "cell_type": "markdown",
   "id": "3341ca80",
   "metadata": {},
   "source": []
  },
  {
   "cell_type": "code",
   "execution_count": 1,
   "id": "d0ecf47c",
   "metadata": {},
   "outputs": [],
   "source": [
    "# ## 1. Introducción\n",
    "#\n",
    "# En el desarrollo de modelos de aprendizaje automático, especialmente con datos médicos, es fundamental asegurarse de que los conjuntos de datos utilizados para entrenamiento, validación y prueba sean independientes. Una forma común de **fuga de datos** (data leakage) ocurre cuando información del conjunto de prueba o validación \"se filtra\" al conjunto de entrenamiento.\n",
    "#\n",
    "# Una fuente específica de fuga en datos médicos es la **superposición de pacientes**. Si un mismo paciente tiene imágenes tanto en el conjunto de entrenamiento como en el de validación o prueba, el modelo podría aprender características específicas de ese paciente durante el entrenamiento y luego obtener una ventaja injusta al evaluarlo en las imágenes del mismo paciente en los otros conjuntos. Esto lleva a una sobreestimación del rendimiento real del modelo en datos completamente nuevos.\n",
    "#\n",
    "# **Objetivos:**\n",
    "# * Identificar si existe superposición de pacientes entre los conjuntos de entrenamiento, validación y prueba.\n",
    "# * Cuantificar la superposición.\n",
    "# * Demostrar cómo eliminar la superposición para prevenir la fuga de datos.\n",
    "\n",
    "# ## 2. Importar Librerías y Cargar Datos\n",
    "\n",
    "# In[ ]:\n",
    "import pandas as pd\n",
    "import numpy as np\n",
    "import os\n"
   ]
  },
  {
   "cell_type": "code",
   "execution_count": 2,
   "id": "0e24305a",
   "metadata": {},
   "outputs": [
    {
     "name": "stdout",
     "output_type": "stream",
     "text": [
      "Archivos CSV cargados exitosamente.\n",
      "Tamaño Entrenamiento: (1000, 16)\n",
      "Tamaño Validación: (200, 16)\n",
      "Tamaño Prueba: (420, 16)\n"
     ]
    }
   ],
   "source": [
    "# In[ ]:\n",
    "# Define paths (ajusta si es necesario basado en la ubicación del notebook)\n",
    "BASE_DATA_PATH = \"../data/\"\n",
    "train_csv_path = os.path.join(BASE_DATA_PATH, \"train-small.csv\")\n",
    "valid_csv_path = os.path.join(BASE_DATA_PATH, \"valid-small.csv\")\n",
    "test_csv_path = os.path.join(BASE_DATA_PATH, \"test.csv\")\n",
    "\n",
    "# Columna que contiene el ID del paciente\n",
    "PATIENT_ID_COL = 'PatientId'\n",
    "\n",
    "# Load the dataframes\n",
    "try:\n",
    "    train_df = pd.read_csv(train_csv_path)\n",
    "    valid_df = pd.read_csv(valid_csv_path)\n",
    "    test_df = pd.read_csv(test_csv_path)\n",
    "    print(\"Archivos CSV cargados exitosamente.\")\n",
    "    print(f\"Tamaño Entrenamiento: {train_df.shape}\")\n",
    "    print(f\"Tamaño Validación: {valid_df.shape}\")\n",
    "    print(f\"Tamaño Prueba: {test_df.shape}\")\n",
    "except FileNotFoundError as e:\n",
    "    print(f\"Error: No se encontró el archivo CSV: {e}\")\n",
    "    print(f\"Asegúrate de que los archivos estén en la carpeta '{BASE_DATA_PATH}'\")\n",
    "    raise e\n",
    "except Exception as e:\n",
    "    print(f\"Ocurrió un error al cargar los datos: {e}\")\n",
    "    raise e"
   ]
  },
  {
   "cell_type": "code",
   "execution_count": 7,
   "id": "ff3da8be",
   "metadata": {},
   "outputs": [
    {
     "name": "stdout",
     "output_type": "stream",
     "text": [
      "Número de pacientes únicos en Entrenamiento: 928\n",
      "Número de pacientes únicos en Validación: 199\n",
      "Número de pacientes únicos en Prueba: 389\n"
     ]
    }
   ],
   "source": [
    "## 3. Extraer y Comparar IDs de Pacientes\n",
    "\n",
    "# Extraeremos los identificadores únicos de pacientes de cada conjunto y usaremos conjuntos (`set`) para encontrar eficientemente las intersecciones (pacientes presentes en más de un conjunto).\n",
    "\n",
    "# In[ ]:\n",
    "# Verificar que la columna de ID de paciente exista\n",
    "if PATIENT_ID_COL not in train_df.columns or \\\n",
    "   PATIENT_ID_COL not in valid_df.columns or \\\n",
    "   PATIENT_ID_COL not in test_df.columns:\n",
    "    print(f\"Error: La columna '{PATIENT_ID_COL}' no se encuentra en todos los DataFrames.\")\n",
    "    # Detener ejecución o manejar el error\n",
    "    raise KeyError(f\"Columna '{PATIENT_ID_COL}' faltante.\")\n",
    "\n",
    "# Extraer IDs únicos de pacientes de cada conjunto\n",
    "# Usar .astype(str) sigue siendo una buena práctica por robustez\n",
    "train_patient_ids = set(train_df[PATIENT_ID_COL].astype(str).unique())\n",
    "valid_patient_ids = set(valid_df[PATIENT_ID_COL].astype(str).unique())\n",
    "test_patient_ids = set(test_df[PATIENT_ID_COL].astype(str).unique())\n",
    "\n",
    "print(f\"Número de pacientes únicos en Entrenamiento: {len(train_patient_ids)}\")\n",
    "print(f\"Número de pacientes únicos en Validación: {len(valid_patient_ids)}\")\n",
    "print(f\"Número de pacientes únicos en Prueba: {len(test_patient_ids)}\")\n"
   ]
  },
  {
   "cell_type": "code",
   "execution_count": 8,
   "id": "826d988d",
   "metadata": {},
   "outputs": [
    {
     "name": "stdout",
     "output_type": "stream",
     "text": [
      "\n",
      "--- Análisis de Superposición de Pacientes ---\n",
      "Pacientes en Entrenamiento Y Validación: 197\n",
      "   IDs de ejemplo: ['14125', '8130', '12615', '16030', '8348', '6426', '13904', '28550', '10651', '7523', '22135', '29454', '14107', '15078', '12640']...\n",
      "\n",
      "Pacientes en Entrenamiento Y Prueba: 0\n",
      "\n",
      "Pacientes en Validación Y Prueba: 0\n",
      "\n",
      "Pacientes en Entrenamiento Y Validación Y Prueba: 0\n"
     ]
    }
   ],
   "source": [
    "# Calcular intersecciones para identificar superposición\n",
    "overlap_train_valid = train_patient_ids.intersection(valid_patient_ids)\n",
    "overlap_train_test = train_patient_ids.intersection(test_patient_ids)\n",
    "overlap_valid_test = valid_patient_ids.intersection(test_patient_ids)\n",
    "\n",
    "print(f\"\\n--- Análisis de Superposición de Pacientes ---\")\n",
    "print(f\"Pacientes en Entrenamiento Y Validación: {len(overlap_train_valid)}\") # Ahora debería dar 11\n",
    "if len(overlap_train_valid) > 0:\n",
    "    print(f\"   IDs de ejemplo: {list(overlap_train_valid)[:15]}...\") # Mostrar algunos IDs (hasta 15)\n",
    "\n",
    "print(f\"\\nPacientes en Entrenamiento Y Prueba: {len(overlap_train_test)}\")\n",
    "if len(overlap_train_test) > 0:\n",
    "    print(f\"   IDs de ejemplo: {list(overlap_train_test)[:5]}...\")\n",
    "\n",
    "print(f\"\\nPacientes en Validación Y Prueba: {len(overlap_valid_test)}\")\n",
    "if len(overlap_valid_test) > 0:\n",
    "    print(f\"   IDs de ejemplo: {list(overlap_valid_test)[:5]}...\")\n",
    "\n",
    "# Comprobar si hay algún paciente en los tres conjuntos\n",
    "overlap_all_three = train_patient_ids.intersection(valid_patient_ids).intersection(test_patient_ids)\n",
    "print(f\"\\nPacientes en Entrenamiento Y Validación Y Prueba: {len(overlap_all_three)}\")\n"
   ]
  },
  {
   "cell_type": "code",
   "execution_count": 9,
   "id": "0431fac2",
   "metadata": {},
   "outputs": [
    {
     "name": "stdout",
     "output_type": "stream",
     "text": [
      "\n",
      "--- Eliminando Superposición (de Validación y Prueba) ---\n",
      "Pacientes a eliminar de Validación (presentes en Entrenamiento o Prueba): 197\n",
      "Pacientes a eliminar de Prueba (presentes en Entrenamiento o Validación): 0\n",
      "\n",
      "Tamaño del conjunto de Validación después de limpiar: (2, 16)\n",
      "No se eliminaron pacientes del conjunto de Prueba.\n"
     ]
    }
   ],
   "source": [
    " ## 4. Eliminar Superposición de Pacientes\n",
    "\n",
    "# Si se detecta superposición, es crucial eliminarla para evitar la fuga de datos. Una estrategia común es **eliminar los pacientes superpuestos de los conjuntos de validación y prueba**, manteniendo intacto el conjunto de entrenamiento. Esto asegura que la evaluación se realice sobre pacientes completamente \"no vistos\" durante el entrenamiento.\n",
    "\n",
    "# In[ ]:\n",
    "print(\"\\n--- Eliminando Superposición (de Validación y Prueba) ---\")\n",
    "\n",
    "# Convertir los conjuntos de IDs superpuestos a listas para usarlos con .isin()\n",
    "# Usamos los conjuntos recalculados con el nombre de columna correcto\n",
    "patients_to_remove_from_valid = list(overlap_train_valid.union(overlap_valid_test))\n",
    "patients_to_remove_from_test = list(overlap_train_test.union(overlap_valid_test))\n",
    "# Nota: Incluimos overlap_valid_test en ambos para asegurarnos de que se eliminen de ambos si existe.\n",
    "\n",
    "print(f\"Pacientes a eliminar de Validación (presentes en Entrenamiento o Prueba): {len(patients_to_remove_from_valid)}\")\n",
    "print(f\"Pacientes a eliminar de Prueba (presentes en Entrenamiento o Validación): {len(patients_to_remove_from_test)}\")\n",
    "\n",
    "# Crear copias de los DataFrames originales antes de modificarlos (buena práctica)\n",
    "valid_df_cleaned = valid_df.copy()\n",
    "test_df_cleaned = test_df.copy()\n",
    "\n",
    "# Filtrar: Mantener solo las filas donde el Patient ID NO está en la lista de eliminación\n",
    "if patients_to_remove_from_valid:\n",
    "    # Asegurarse de comparar como strings si los IDs en la lista son strings\n",
    "    valid_df_cleaned = valid_df_cleaned[~valid_df_cleaned[PATIENT_ID_COL].astype(str).isin(patients_to_remove_from_valid)]\n",
    "    print(f\"\\nTamaño del conjunto de Validación después de limpiar: {valid_df_cleaned.shape}\")\n",
    "else:\n",
    "    print(\"\\nNo se eliminaron pacientes del conjunto de Validación.\")\n",
    "\n",
    "if patients_to_remove_from_test:\n",
    "    # Asegurarse de comparar como strings\n",
    "    test_df_cleaned = test_df_cleaned[~test_df_cleaned[PATIENT_ID_COL].astype(str).isin(patients_to_remove_from_test)]\n",
    "    print(f\"Tamaño del conjunto de Prueba después de limpiar: {test_df_cleaned.shape}\")\n",
    "else:\n",
    "    print(\"No se eliminaron pacientes del conjunto de Prueba.\")"
   ]
  },
  {
   "cell_type": "code",
   "execution_count": 10,
   "id": "b613bb06",
   "metadata": {},
   "outputs": [
    {
     "name": "stdout",
     "output_type": "stream",
     "text": [
      "\n",
      "--- Verificando Superposición Después de la Limpieza ---\n",
      "Pacientes en Entrenamiento Y Validación (Limpiado): 0\n",
      "Pacientes en Entrenamiento Y Prueba (Limpiado): 0\n",
      "Pacientes en Validación (Limpiado) Y Prueba (Limpiado): 0\n",
      "\n",
      "¡Éxito! Se ha eliminado la superposición de pacientes entre los conjuntos.\n"
     ]
    }
   ],
   "source": [
    "## 5. Comprobar la Eliminación de Superposición\n",
    "\n",
    "# Verifiquemos que la superposición se haya eliminado correctamente entre los conjuntos limpios y el de entrenamiento.\n",
    "\n",
    "# In[ ]:\n",
    "print(\"\\n--- Verificando Superposición Después de la Limpieza ---\")\n",
    "\n",
    "# Extraer IDs de los conjuntos limpios\n",
    "valid_patient_ids_cleaned = set(valid_df_cleaned[PATIENT_ID_COL].astype(str).unique())\n",
    "test_patient_ids_cleaned = set(test_df_cleaned[PATIENT_ID_COL].astype(str).unique())\n",
    "\n",
    "# Recalcular intersecciones\n",
    "overlap_train_valid_cleaned = train_patient_ids.intersection(valid_patient_ids_cleaned)\n",
    "overlap_train_test_cleaned = train_patient_ids.intersection(test_patient_ids_cleaned)\n",
    "overlap_valid_test_cleaned = valid_patient_ids_cleaned.intersection(test_patient_ids_cleaned)\n",
    "\n",
    "print(f\"Pacientes en Entrenamiento Y Validación (Limpiado): {len(overlap_train_valid_cleaned)}\")\n",
    "print(f\"Pacientes en Entrenamiento Y Prueba (Limpiado): {len(overlap_train_test_cleaned)}\")\n",
    "print(f\"Pacientes en Validación (Limpiado) Y Prueba (Limpiado): {len(overlap_valid_test_cleaned)}\")\n",
    "\n",
    "if len(overlap_train_valid_cleaned) == 0 and len(overlap_train_test_cleaned) == 0 and len(overlap_valid_test_cleaned) == 0:\n",
    "    print(\"\\n¡Éxito! Se ha eliminado la superposición de pacientes entre los conjuntos.\")\n",
    "else:\n",
    "    print(\"\\n¡Advertencia! Todavía existe superposición después de la limpieza. Revisa la lógica.\")\n",
    "\n",
    "\n",
    "# ## 6. Conclusión y Próximos Pasos\n",
    "\n",
    "# Hemos identificado (correctamente ahora, esperamos) y eliminado con éxito la superposición de pacientes entre los conjuntos de entrenamiento, validación y prueba. Este es un paso esencial para garantizar que la evaluación del modelo sea representativa de su rendimiento en datos verdaderamente nuevos y no vistos.\n",
    "#\n",
    "# **Próximos Pasos:**\n",
    "# * Utilizar los DataFrames **limpios** (`train_df`, `valid_df_cleaned`, `test_df_cleaned`) al crear los generadores de datos (`ImageDataGenerator` o `tf.data`) para el entrenamiento y la evaluación del modelo CNN.\n",
    "# * Asegurarse de que cualquier división futura de datos (si se realiza) se haga a nivel de paciente para mantener la independencia de los conjuntos.\n"
   ]
  },
  {
   "cell_type": "code",
   "execution_count": 11,
   "id": "cbcb2983",
   "metadata": {},
   "outputs": [
    {
     "name": "stdout",
     "output_type": "stream",
     "text": [
      "                Image  Atelectasis  Cardiomegaly  Consolidation  Edema  \\\n",
      "198  00003272_000.png            0             0              0      0   \n",
      "199  00001108_004.png            1             0              0      0   \n",
      "\n",
      "     Effusion  Emphysema  Fibrosis  Hernia  Infiltration  Mass  Nodule  \\\n",
      "198         0          0         0       1             0     0       0   \n",
      "199         0          0         0       0             0     0       0   \n",
      "\n",
      "     PatientId  Pleural_Thickening  Pneumonia  Pneumothorax  \n",
      "198       3272                   0          0             0  \n",
      "199       1108                   0          1             0  \n"
     ]
    }
   ],
   "source": [
    "print(valid_df_cleaned)"
   ]
  },
  {
   "cell_type": "code",
   "execution_count": 12,
   "id": "8e4e4217",
   "metadata": {},
   "outputs": [
    {
     "name": "stdout",
     "output_type": "stream",
     "text": [
      "(2, 16)\n"
     ]
    }
   ],
   "source": [
    "print(valid_df_cleaned.shape)"
   ]
  },
  {
   "cell_type": "code",
   "execution_count": null,
   "id": "32256abb",
   "metadata": {},
   "outputs": [],
   "source": []
  }
 ],
 "metadata": {
  "kernelspec": {
   "display_name": "tensor_env",
   "language": "python",
   "name": "python3"
  },
  "language_info": {
   "codemirror_mode": {
    "name": "ipython",
    "version": 3
   },
   "file_extension": ".py",
   "mimetype": "text/x-python",
   "name": "python",
   "nbconvert_exporter": "python",
   "pygments_lexer": "ipython3",
   "version": "3.10.13"
  }
 },
 "nbformat": 4,
 "nbformat_minor": 5
}
